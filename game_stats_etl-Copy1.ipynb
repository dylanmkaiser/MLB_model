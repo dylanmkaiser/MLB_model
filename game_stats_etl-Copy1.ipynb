{
 "cells": [
  {
   "cell_type": "code",
   "execution_count": 1,
   "metadata": {},
   "outputs": [],
   "source": [
    "import pandas as pd\n",
    "from bs4 import BeautifulSoup\n",
    "import requests"
   ]
  },
  {
   "cell_type": "code",
   "execution_count": 232,
   "metadata": {},
   "outputs": [],
   "source": [
    "home_abv='CLE'\n",
    "year='2010'\n",
    "month='05'\n",
    "day='26'"
   ]
  },
  {
   "cell_type": "code",
   "execution_count": 233,
   "metadata": {},
   "outputs": [],
   "source": [
    "def record_split(record_string):\n",
    "    cleaned=record_string.strip(',').split('-')\n",
    "    if int(cleaned[0])+int(cleaned[1])==0:\n",
    "        return 0\n",
    "    else:\n",
    "        return round(int(cleaned[0])/(int(cleaned[1])+int(cleaned[0])),2)"
   ]
  },
  {
   "cell_type": "code",
   "execution_count": 234,
   "metadata": {},
   "outputs": [],
   "source": [
    "url=f'https://www.baseball-reference.com/previews/{year}/{home_abv}{year}{month}{day}0.shtml'\n",
    "\n",
    "#Scrape Soup\n",
    "response = requests.get(url)\n",
    "soup = BeautifulSoup(response.text, 'html.parser')\n",
    "\n",
    "#Number of Games Played This Season/Test if We Should Record Data\n",
    "game_no_list=soup.find_all('tr')[0].find_all('td')[0].get_text().split()[1].strip(',').split('-')\n",
    "game_no=int(game_no_list[1])+int(game_no_list[0])"
   ]
  },
  {
   "cell_type": "code",
   "execution_count": 235,
   "metadata": {},
   "outputs": [],
   "source": [
    "#Scrape Pandas Tables\n",
    "tables=pd.read_html(url)\n",
    "# tables[1][1][0].split('2017 ')[1]"
   ]
  },
  {
   "cell_type": "code",
   "execution_count": 236,
   "metadata": {},
   "outputs": [],
   "source": [
    "#Function that calculates win % or returns 50% if no record\n",
    "def record_split(record_string):\n",
    "    cleaned=record_string.strip(',').split('-')\n",
    "    if int(cleaned[0])+int(cleaned[1])==0:\n",
    "        return .5\n",
    "    else:\n",
    "        return round(int(cleaned[0])/(int(cleaned[1])+int(cleaned[0])),2)"
   ]
  },
  {
   "cell_type": "code",
   "execution_count": 237,
   "metadata": {},
   "outputs": [],
   "source": [
    "\n",
    "#Away Pitcher Handedness\n",
    "away_pitcher_hand=soup.find_all('h3')[0].get_text().split('(')[1].split()[1]\n",
    "if away_pitcher_hand=='LHP,':\n",
    "    away_pitcher_rh=0\n",
    "else: \n",
    "    away_pitcher_rh=1\n",
    "\n",
    "\n",
    "#Away Pitcher Record\n",
    "try:\n",
    "    away_pitcher_record=record_split(soup.find_all('h3')[0].get_text().split('(')[1].split()[2].strip(','))\n",
    "except: \n",
    "    away_pitcher_record=0\n",
    "\n",
    "#Away Pitcher ERA\n",
    "try:\n",
    "    away_pitcher_era=soup.find_all('h3')[0].get_text().split('(')[1].split()[3].strip(')')\n",
    "except:\n",
    "    away_pitcher_era=0\n",
    "\n",
    "#Away Pitcher Innings Pitched, may contain prior year data if before May\n",
    "try:\n",
    "    away_pitcher_ip=tables[1]['IP'][0]\n",
    "except:\n",
    "    away_pitcher_ip=0"
   ]
  },
  {
   "cell_type": "code",
   "execution_count": 238,
   "metadata": {},
   "outputs": [],
   "source": [
    "#Home Pitcher Handedness\n",
    "home_pitcher_hand=soup.find_all('h3')[1].get_text().split('(')[1].split()[1]\n",
    "if home_pitcher_hand=='LHP,':\n",
    "    home_pitcher_rh=0\n",
    "else: \n",
    "    home_pitcher_rh=1\n",
    "\n",
    "\n",
    "#Home Pitcher Record\n",
    "try:\n",
    "    home_pitcher_record=record_split(soup.find_all('h3')[1].get_text().split('(')[1].split()[2].strip(','))\n",
    "except: \n",
    "    home_pitcher_record=0\n",
    "\n",
    "#Home Pitcher ERA\n",
    "try:\n",
    "    home_pitcher_era=soup.find_all('h3')[1].get_text().split('(')[1].split()[3].strip(')')\n",
    "except:\n",
    "    home_pitcher_era=0\n",
    "\n",
    "#Home Pitcher Innings Pitched, may contain prior year data if before May\n",
    "try:\n",
    "    home_pitcher_ip=tables[2]['IP'][0]\n",
    "except:\n",
    "    home_pitcher_ip=0"
   ]
  },
  {
   "cell_type": "code",
   "execution_count": 239,
   "metadata": {},
   "outputs": [],
   "source": [
    "#Away Team Overall Win/Loss Record\n",
    "away_record=record_split(soup.find_all('tr')[0].find_all('td')[0].get_text().split()[1].strip(','))\n",
    "\n",
    "\n",
    "#Away Team Win/Loss Record in Last 10 Games\n",
    "away_last_ten=record_split(soup.find_all('pre')[0].get_text().split('Last 10')[2].split(' ')[1])\n",
    "\n",
    "#Away Team Record as Away Team \n",
    "away_venue_record=record_split(soup.find_all('pre')[0].get_text().split('Road')[0].split('   ')[1])\n",
    "\n",
    "#Away Team Record vs Home Team Pitcher Type\n",
    "if home_pitcher_rh==1:\n",
    "    away_pitcher_type_record=record_split(soup.find_all('pre')[0].get_text().split('vsRHP:')[1].split('  ')[1])\n",
    "else:\n",
    "    away_pitcher_type_record=record_split(soup.find_all('pre')[0].get_text().split('vsLHP:')[1].split('  ')[1])"
   ]
  },
  {
   "cell_type": "code",
   "execution_count": 240,
   "metadata": {},
   "outputs": [],
   "source": [
    "#Home Team Overall Win/Loss Record\n",
    "home_record=record_split(soup.findAll(\"span\", {\"class\": \"preview_teams\"})[1].parent.text.split()[1].strip(','))\n",
    "\n",
    "#Home Team Win/Loss Record in Last 10 Games\n",
    "home_last_ten=record_split(soup.find_all('pre')[1].get_text().split('Last 10')[2].split(' ')[1])\n",
    "\n",
    "#Home Team Record as Home Team \n",
    "home_venue_record=record_split(soup.find_all('pre')[1].get_text().split('Home:')[1].split('  ')[2])\n",
    "\n",
    "#Home Team Record vs Away Team Pitcher Type\n",
    "if away_pitcher_rh==1:\n",
    "    home_pitcher_type_record=record_split(soup.find_all('pre')[1].get_text().split('vsRHP:')[1].split('  ')[1])\n",
    "else:\n",
    "    home_pitcher_type_record=record_split(soup.find_all('pre')[1].get_text().split('vsLHP:')[1].split('  ')[1])"
   ]
  },
  {
   "cell_type": "code",
   "execution_count": 241,
   "metadata": {},
   "outputs": [],
   "source": [
    "#Away Team Ops vs Home Pitcher Type\n",
    "row=tables[6].loc[tables[6][0] == 'IP'].index[0]\n",
    "column=tables[6].loc[0,:].loc[tables[6].loc[0,:]=='vLH/RH'].index[0]\n",
    "\n",
    "if home_pitcher_rh==1:\n",
    "    away_ops_vs_pitcher_type=tables[6].loc[row,column].split('/')[1]\n",
    "else:\n",
    "    away_ops_vs_pitcher_type=tables[6].loc[row,column].split('/')[0]\n",
    "\n"
   ]
  },
  {
   "cell_type": "code",
   "execution_count": 242,
   "metadata": {},
   "outputs": [],
   "source": [
    "#Home Team Batting Table, may contain prior year data if before May\n",
    "row=tables[7].loc[tables[7][0] == 'IP'].index[0]\n",
    "column=tables[7].loc[0,:].loc[tables[7].loc[0,:]=='vLH/RH'].index[0]\n",
    "\n",
    "#Home Team Ops vs Away Pitcher Type\n",
    "if away_pitcher_rh==1:\n",
    "    home_ops_vs_pitcher_type=tables[7].loc[row,column].split('/')[1]\n",
    "else:\n",
    "    home_ops_vs_pitcher_type=tables[7].loc[row,column].split('/')[0]\n"
   ]
  },
  {
   "cell_type": "code",
   "execution_count": null,
   "metadata": {},
   "outputs": [],
   "source": []
  },
  {
   "cell_type": "code",
   "execution_count": null,
   "metadata": {},
   "outputs": [],
   "source": []
  },
  {
   "cell_type": "code",
   "execution_count": 243,
   "metadata": {},
   "outputs": [],
   "source": [
    "#Who is the home team?\n",
    "home_team=soup.text.split('@ ')[1].split(',')[0]\n",
    "\n",
    "#Matchup record\n",
    "if soup.find_all('pre')[2].text.split(' - ')[1].split(' ')[0] == home_team:\n",
    "    home_matchup_record=record_split(soup.find_all('pre')[2].text.split(' - ')[1].split(' ')[2].split()[0].strip(';'))\n",
    "else:\n",
    "    home_matchup_record=1-record_split(soup.find_all('pre')[2].text.split(' - ')[1].split(' ')[2].split()[0].strip(';'))\n",
    "    \n",
    "#How many matchups\n",
    "no_games_list=soup.find_all('pre')[2].text.split(' - ')[1].split(' ')[2].split(';')[0].split('-')\n",
    "matchup_count=int(no_games_list[1])+int(no_games_list[0])\n",
    "\n"
   ]
  },
  {
   "cell_type": "code",
   "execution_count": 244,
   "metadata": {},
   "outputs": [
    {
     "data": {
      "text/plain": [
       "(45,\n",
       " 0,\n",
       " 0.38,\n",
       " '4.55',\n",
       " 59.1,\n",
       " 1,\n",
       " 0.5,\n",
       " '4.56',\n",
       " 51.1,\n",
       " 0.42,\n",
       " 0.5,\n",
       " 0.46,\n",
       " 0.44,\n",
       " 0.39,\n",
       " 0.3,\n",
       " 0.38,\n",
       " 0.43,\n",
       " '.728',\n",
       " '.600',\n",
       " 8,\n",
       " 0.75)"
      ]
     },
     "execution_count": 244,
     "metadata": {},
     "output_type": "execute_result"
    }
   ],
   "source": [
    "preview_data=(game_no,\n",
    "away_pitcher_rh,away_pitcher_record,away_pitcher_era,away_pitcher_ip,\n",
    "home_pitcher_rh,home_pitcher_record,home_pitcher_era,home_pitcher_ip,\n",
    "away_record,away_last_ten,away_venue_record,away_pitcher_type_record,\n",
    "home_record,home_last_ten,home_venue_record,home_pitcher_type_record,\n",
    "away_ops_vs_pitcher_type,home_ops_vs_pitcher_type,\n",
    "matchup_count,home_matchup_record)\n",
    "preview_data"
   ]
  },
  {
   "cell_type": "code",
   "execution_count": null,
   "metadata": {},
   "outputs": [],
   "source": []
  },
  {
   "cell_type": "code",
   "execution_count": null,
   "metadata": {},
   "outputs": [],
   "source": []
  }
 ],
 "metadata": {
  "kernelspec": {
   "display_name": "Python 3",
   "language": "python",
   "name": "python3"
  },
  "language_info": {
   "codemirror_mode": {
    "name": "ipython",
    "version": 3
   },
   "file_extension": ".py",
   "mimetype": "text/x-python",
   "name": "python",
   "nbconvert_exporter": "python",
   "pygments_lexer": "ipython3",
   "version": "3.6.8"
  }
 },
 "nbformat": 4,
 "nbformat_minor": 2
}
