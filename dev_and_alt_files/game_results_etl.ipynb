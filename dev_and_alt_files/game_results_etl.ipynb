{
 "cells": [
  {
   "cell_type": "code",
   "execution_count": 2,
   "metadata": {},
   "outputs": [],
   "source": [
    "import pandas as pd\n",
    "from bs4 import BeautifulSoup\n",
    "import requests"
   ]
  },
  {
   "cell_type": "code",
   "execution_count": 3,
   "metadata": {},
   "outputs": [],
   "source": [
    "# div class=\"section_wrapper\"\n",
    "# div class=\"section_heading\"\n",
    "# div class=\"section_content\" - this is where all of the days\n",
    "    # games were played and the games and outcomes are\n",
    "# div w/ h3 is for an individual day\n",
    "# div class=\"game\" is the game\n",
    "# <strong> is the winning team\n",
    "    # score is within this tag, within the parenthesis\n",
    "# need to loop through each of these divs"
   ]
  },
  {
   "cell_type": "code",
   "execution_count": 4,
   "metadata": {},
   "outputs": [],
   "source": [
    "## output table structure - option 1\n",
    "# output column 1 = team 1 name, column 2 = team 1 win/lose?, column 3 = team 1 score\n",
    "# output column 4 = team 2 name, column 5 = team 2 win/lose?, column 6 = team 2 scored\n",
    "\n",
    "\n",
    "## output table structure - option 2\n",
    "# output column 1 = winning team name, column 2 = winning team score\n",
    "# output column 3 = losing team name, column 4 = losing team score\n"
   ]
  },
  {
   "cell_type": "code",
   "execution_count": 5,
   "metadata": {},
   "outputs": [],
   "source": [
    "league='MLB'\n",
    "year='2018'\n"
   ]
  },
  {
   "cell_type": "code",
   "execution_count": 6,
   "metadata": {},
   "outputs": [],
   "source": [
    "url=f'https://www.baseball-reference.com/leagues/{league}/{year}-schedule.shtml'\n",
    "\n",
    "#Scrape Soup\n",
    "response = requests.get(url)\n",
    "soup = BeautifulSoup(response.text, 'html.parser')\n"
   ]
  },
  {
   "cell_type": "code",
   "execution_count": null,
   "metadata": {},
   "outputs": [],
   "source": []
  }
 ],
 "metadata": {
  "kernelspec": {
   "display_name": "Python 3",
   "language": "python",
   "name": "python3"
  },
  "language_info": {
   "codemirror_mode": {
    "name": "ipython",
    "version": 3
   },
   "file_extension": ".py",
   "mimetype": "text/x-python",
   "name": "python",
   "nbconvert_exporter": "python",
   "pygments_lexer": "ipython3",
   "version": "3.6.7"
  }
 },
 "nbformat": 4,
 "nbformat_minor": 2
}
