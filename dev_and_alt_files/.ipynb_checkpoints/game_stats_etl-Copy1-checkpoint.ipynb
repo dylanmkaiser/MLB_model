{
 "cells": [
  {
   "cell_type": "code",
   "execution_count": 1,
   "metadata": {},
   "outputs": [],
   "source": [
    "import pandas as pd\n",
    "from bs4 import BeautifulSoup\n",
    "import requests"
   ]
  },
  {
   "cell_type": "code",
   "execution_count": 2,
   "metadata": {},
   "outputs": [],
   "source": [
    "home_abv='CLE'\n",
    "year='2010'\n",
    "month='08'\n",
    "day='26'"
   ]
  },
  {
   "cell_type": "code",
   "execution_count": 3,
   "metadata": {},
   "outputs": [],
   "source": [
    "def record_split(record_string):\n",
    "    cleaned=record_string.strip(',').split('-')\n",
    "    if int(cleaned[0])+int(cleaned[1])==0:\n",
    "        return 0\n",
    "    else:\n",
    "        return round(int(cleaned[0])/(int(cleaned[1])+int(cleaned[0])),2)"
   ]
  },
  {
   "cell_type": "code",
   "execution_count": 4,
   "metadata": {},
   "outputs": [],
   "source": [
    "url=f'https://www.baseball-reference.com/previews/{year}/{home_abv}{year}{month}{day}0.shtml'\n",
    "\n",
    "#Scrape Soup\n",
    "response = requests.get(url)\n",
    "soup = BeautifulSoup(response.text, 'html.parser')\n",
    "\n",
    "#Number of Games Played This Season/Test if We Should Record Data\n",
    "game_no_list=soup.find_all('tr')[0].find_all('td')[0].get_text().split()[1].strip(',').split('-')\n",
    "game_no=int(game_no_list[1])+int(game_no_list[0])"
   ]
  },
  {
   "cell_type": "code",
   "execution_count": 5,
   "metadata": {},
   "outputs": [],
   "source": [
    "#Scrape Pandas Tables\n",
    "tables=pd.read_html(url)\n",
    "# tables[1][1][0].split('2017 ')[1]"
   ]
  },
  {
   "cell_type": "code",
   "execution_count": 6,
   "metadata": {},
   "outputs": [],
   "source": [
    "#Function that calculates win % or returns 50% if no record\n",
    "def record_split(record_string):\n",
    "    cleaned=record_string.strip(',').split('-')\n",
    "    if int(cleaned[0])+int(cleaned[1])==0:\n",
    "        return .5\n",
    "    else:\n",
    "        return round(int(cleaned[0])/(int(cleaned[1])+int(cleaned[0])),2)"
   ]
  },
  {
   "cell_type": "code",
   "execution_count": 7,
   "metadata": {},
   "outputs": [],
   "source": [
    "\n",
    "#Away Pitcher Handedness\n",
    "away_pitcher_hand=soup.find_all('h3')[0].get_text().split('(')[1].split()[1]\n",
    "if away_pitcher_hand=='LHP,':\n",
    "    away_pitcher_rh=0\n",
    "else: \n",
    "    away_pitcher_rh=1\n",
    "\n",
    "\n",
    "#Away Pitcher Record\n",
    "try:\n",
    "    away_pitcher_record=record_split(soup.find_all('h3')[0].get_text().split('(')[1].split()[2].strip(','))\n",
    "except: \n",
    "    away_pitcher_record=0\n",
    "\n",
    "#Away Pitcher ERA\n",
    "try:\n",
    "    away_pitcher_era=soup.find_all('h3')[0].get_text().split('(')[1].split()[3].strip(')')\n",
    "except:\n",
    "    away_pitcher_era=0\n",
    "\n",
    "#Away Pitcher Innings Pitched, may contain prior year data if before May\n",
    "try:\n",
    "    away_pitcher_ip=tables[1]['IP'][0]\n",
    "except:\n",
    "    away_pitcher_ip=0"
   ]
  },
  {
   "cell_type": "code",
   "execution_count": 8,
   "metadata": {},
   "outputs": [],
   "source": [
    "#Home Pitcher Handedness\n",
    "home_pitcher_hand=soup.find_all('h3')[1].get_text().split('(')[1].split()[1]\n",
    "if home_pitcher_hand=='LHP,':\n",
    "    home_pitcher_rh=0\n",
    "else: \n",
    "    home_pitcher_rh=1\n",
    "\n",
    "\n",
    "#Home Pitcher Record\n",
    "try:\n",
    "    home_pitcher_record=record_split(soup.find_all('h3')[1].get_text().split('(')[1].split()[2].strip(','))\n",
    "except: \n",
    "    home_pitcher_record=0\n",
    "\n",
    "#Home Pitcher ERA\n",
    "try:\n",
    "    home_pitcher_era=soup.find_all('h3')[1].get_text().split('(')[1].split()[3].strip(')')\n",
    "except:\n",
    "    home_pitcher_era=0\n",
    "\n",
    "#Home Pitcher Innings Pitched, may contain prior year data if before May\n",
    "try:\n",
    "    home_pitcher_ip=tables[2]['IP'][0]\n",
    "except:\n",
    "    home_pitcher_ip=0"
   ]
  },
  {
   "cell_type": "code",
   "execution_count": 9,
   "metadata": {},
   "outputs": [],
   "source": [
    "#Away Team Overall Win/Loss Record\n",
    "away_record=record_split(soup.find_all('tr')[0].find_all('td')[0].get_text().split()[1].strip(','))\n",
    "\n",
    "\n",
    "#Away Team Win/Loss Record in Last 10 Games\n",
    "away_last_ten=record_split(soup.find_all('pre')[0].get_text().split('Last 10')[2].split(' ')[1])\n",
    "\n",
    "#Away Team Record as Away Team \n",
    "away_venue_record=record_split(soup.find_all('pre')[0].get_text().split('Road')[0].split('   ')[1])\n",
    "\n",
    "#Away Team Record vs Home Team Pitcher Type\n",
    "if home_pitcher_rh==1:\n",
    "    away_pitcher_type_record=record_split(soup.find_all('pre')[0].get_text().split('vsRHP:')[1].split('  ')[1])\n",
    "else:\n",
    "    away_pitcher_type_record=record_split(soup.find_all('pre')[0].get_text().split('vsLHP:')[1].split('  ')[1])"
   ]
  },
  {
   "cell_type": "code",
   "execution_count": 69,
   "metadata": {},
   "outputs": [
    {
     "data": {
      "text/plain": [
       "'50-76'"
      ]
     },
     "execution_count": 69,
     "metadata": {},
     "output_type": "execute_result"
    }
   ],
   "source": [
    "soup.findAll(\"span\", {\"class\": \"preview_teams\"})[1].parent.text.split()[1].strip(',')"
   ]
  },
  {
   "cell_type": "code",
   "execution_count": 11,
   "metadata": {},
   "outputs": [
    {
     "ename": "ValueError",
     "evalue": "invalid literal for int() with base 10: '(4'",
     "output_type": "error",
     "traceback": [
      "\u001b[1;31m---------------------------------------------------------------------------\u001b[0m",
      "\u001b[1;31mValueError\u001b[0m                                Traceback (most recent call last)",
      "\u001b[1;32m<ipython-input-11-e7903e736b08>\u001b[0m in \u001b[0;36m<module>\u001b[1;34m\u001b[0m\n\u001b[0;32m      1\u001b[0m \u001b[1;31m#Home Team Overall Win/Loss Record\u001b[0m\u001b[1;33m\u001b[0m\u001b[1;33m\u001b[0m\u001b[1;33m\u001b[0m\u001b[0m\n\u001b[1;32m----> 2\u001b[1;33m \u001b[0mhome_record\u001b[0m\u001b[1;33m=\u001b[0m\u001b[0mrecord_split\u001b[0m\u001b[1;33m(\u001b[0m\u001b[0msoup\u001b[0m\u001b[1;33m.\u001b[0m\u001b[0mfind_all\u001b[0m\u001b[1;33m(\u001b[0m\u001b[1;34m'tr'\u001b[0m\u001b[1;33m)\u001b[0m\u001b[1;33m[\u001b[0m\u001b[1;36m21\u001b[0m\u001b[1;33m]\u001b[0m\u001b[1;33m.\u001b[0m\u001b[0mfind_all\u001b[0m\u001b[1;33m(\u001b[0m\u001b[1;34m'td'\u001b[0m\u001b[1;33m)\u001b[0m\u001b[1;33m[\u001b[0m\u001b[1;36m0\u001b[0m\u001b[1;33m]\u001b[0m\u001b[1;33m.\u001b[0m\u001b[0mget_text\u001b[0m\u001b[1;33m(\u001b[0m\u001b[1;33m)\u001b[0m\u001b[1;33m.\u001b[0m\u001b[0msplit\u001b[0m\u001b[1;33m(\u001b[0m\u001b[1;33m)\u001b[0m\u001b[1;33m[\u001b[0m\u001b[1;36m1\u001b[0m\u001b[1;33m]\u001b[0m\u001b[1;33m.\u001b[0m\u001b[0mstrip\u001b[0m\u001b[1;33m(\u001b[0m\u001b[1;34m','\u001b[0m\u001b[1;33m)\u001b[0m\u001b[1;33m)\u001b[0m\u001b[1;33m\u001b[0m\u001b[1;33m\u001b[0m\u001b[0m\n\u001b[0m\u001b[0;32m      3\u001b[0m \u001b[1;33m\u001b[0m\u001b[0m\n\u001b[0;32m      4\u001b[0m \u001b[1;31m#Home Team Win/Loss Record in Last 10 Games\u001b[0m\u001b[1;33m\u001b[0m\u001b[1;33m\u001b[0m\u001b[1;33m\u001b[0m\u001b[0m\n\u001b[0;32m      5\u001b[0m \u001b[0mhome_last_ten\u001b[0m\u001b[1;33m=\u001b[0m\u001b[0mrecord_split\u001b[0m\u001b[1;33m(\u001b[0m\u001b[0msoup\u001b[0m\u001b[1;33m.\u001b[0m\u001b[0mfind_all\u001b[0m\u001b[1;33m(\u001b[0m\u001b[1;34m'pre'\u001b[0m\u001b[1;33m)\u001b[0m\u001b[1;33m[\u001b[0m\u001b[1;36m1\u001b[0m\u001b[1;33m]\u001b[0m\u001b[1;33m.\u001b[0m\u001b[0mget_text\u001b[0m\u001b[1;33m(\u001b[0m\u001b[1;33m)\u001b[0m\u001b[1;33m.\u001b[0m\u001b[0msplit\u001b[0m\u001b[1;33m(\u001b[0m\u001b[1;34m'Last 10'\u001b[0m\u001b[1;33m)\u001b[0m\u001b[1;33m[\u001b[0m\u001b[1;36m2\u001b[0m\u001b[1;33m]\u001b[0m\u001b[1;33m.\u001b[0m\u001b[0msplit\u001b[0m\u001b[1;33m(\u001b[0m\u001b[1;34m' '\u001b[0m\u001b[1;33m)\u001b[0m\u001b[1;33m[\u001b[0m\u001b[1;36m1\u001b[0m\u001b[1;33m]\u001b[0m\u001b[1;33m)\u001b[0m\u001b[1;33m\u001b[0m\u001b[1;33m\u001b[0m\u001b[0m\n",
      "\u001b[1;32m<ipython-input-6-ba950e97ef2d>\u001b[0m in \u001b[0;36mrecord_split\u001b[1;34m(record_string)\u001b[0m\n\u001b[0;32m      2\u001b[0m \u001b[1;32mdef\u001b[0m \u001b[0mrecord_split\u001b[0m\u001b[1;33m(\u001b[0m\u001b[0mrecord_string\u001b[0m\u001b[1;33m)\u001b[0m\u001b[1;33m:\u001b[0m\u001b[1;33m\u001b[0m\u001b[1;33m\u001b[0m\u001b[0m\n\u001b[0;32m      3\u001b[0m     \u001b[0mcleaned\u001b[0m\u001b[1;33m=\u001b[0m\u001b[0mrecord_string\u001b[0m\u001b[1;33m.\u001b[0m\u001b[0mstrip\u001b[0m\u001b[1;33m(\u001b[0m\u001b[1;34m','\u001b[0m\u001b[1;33m)\u001b[0m\u001b[1;33m.\u001b[0m\u001b[0msplit\u001b[0m\u001b[1;33m(\u001b[0m\u001b[1;34m'-'\u001b[0m\u001b[1;33m)\u001b[0m\u001b[1;33m\u001b[0m\u001b[1;33m\u001b[0m\u001b[0m\n\u001b[1;32m----> 4\u001b[1;33m     \u001b[1;32mif\u001b[0m \u001b[0mint\u001b[0m\u001b[1;33m(\u001b[0m\u001b[0mcleaned\u001b[0m\u001b[1;33m[\u001b[0m\u001b[1;36m0\u001b[0m\u001b[1;33m]\u001b[0m\u001b[1;33m)\u001b[0m\u001b[1;33m+\u001b[0m\u001b[0mint\u001b[0m\u001b[1;33m(\u001b[0m\u001b[0mcleaned\u001b[0m\u001b[1;33m[\u001b[0m\u001b[1;36m1\u001b[0m\u001b[1;33m]\u001b[0m\u001b[1;33m)\u001b[0m\u001b[1;33m==\u001b[0m\u001b[1;36m0\u001b[0m\u001b[1;33m:\u001b[0m\u001b[1;33m\u001b[0m\u001b[1;33m\u001b[0m\u001b[0m\n\u001b[0m\u001b[0;32m      5\u001b[0m         \u001b[1;32mreturn\u001b[0m \u001b[1;36m.5\u001b[0m\u001b[1;33m\u001b[0m\u001b[1;33m\u001b[0m\u001b[0m\n\u001b[0;32m      6\u001b[0m     \u001b[1;32melse\u001b[0m\u001b[1;33m:\u001b[0m\u001b[1;33m\u001b[0m\u001b[1;33m\u001b[0m\u001b[0m\n",
      "\u001b[1;31mValueError\u001b[0m: invalid literal for int() with base 10: '(4'"
     ]
    }
   ],
   "source": [
    "#Home Team Overall Win/Loss Record\n",
    "home_record=record_split(soup.findAll(\"span\", {\"class\": \"preview_teams\"})[1].parent.text.split()[1].strip(','))\n",
    "\n",
    "#Home Team Win/Loss Record in Last 10 Games\n",
    "home_last_ten=record_split(soup.find_all('pre')[1].get_text().split('Last 10')[2].split(' ')[1])\n",
    "\n",
    "#Home Team Record as Home Team \n",
    "home_venue_record=record_split(soup.find_all('pre')[1].get_text().split('Home:')[1].split('  ')[1])\n",
    "\n",
    "#Home Team Record vs Away Team Pitcher Type\n",
    "if away_pitcher_rh==1:\n",
    "    home_pitcher_type_record=record_split(soup.find_all('pre')[1].get_text().split('vsRHP:')[1].split('  ')[1])\n",
    "else:\n",
    "    home_pitcher_type_record=record_split(soup.find_all('pre')[1].get_text().split('vsLHP:')[1].split('  ')[1])"
   ]
  },
  {
   "cell_type": "code",
   "execution_count": 266,
   "metadata": {},
   "outputs": [],
   "source": [
    "#Away Team Ops vs Home Pitcher Type\n",
    "if home_pitcher_rh==1:\n",
    "    away_ops_vs_pitcher_type=tables[5][9][15].split('/')[1]\n",
    "else:\n",
    "    away_ops_vs_pitcher_type=tables[5][9][15].split('/')[0]\n",
    "\n"
   ]
  },
  {
   "cell_type": "code",
   "execution_count": 267,
   "metadata": {},
   "outputs": [],
   "source": [
    "#Home Team Batting Table, may contain prior year data if before May\n",
    "batting=tables[7]\n",
    "\n",
    "#Home Team Ops vs Away Pitcher Type\n",
    "if away_pitcher_rh==1:\n",
    "    home_ops_vs_pitcher_type=tables[7][11][17].split('/')[1]\n",
    "else:\n",
    "    home_ops_vs_pitcher_type=tables[7][11][17].split('/')[0]\n"
   ]
  },
  {
   "cell_type": "code",
   "execution_count": 297,
   "metadata": {},
   "outputs": [],
   "source": []
  },
  {
   "cell_type": "code",
   "execution_count": 340,
   "metadata": {},
   "outputs": [
    {
     "data": {
      "text/plain": [
       "5"
      ]
     },
     "execution_count": 340,
     "metadata": {},
     "output_type": "execute_result"
    }
   ],
   "source": []
  },
  {
   "cell_type": "code",
   "execution_count": 342,
   "metadata": {},
   "outputs": [],
   "source": [
    "#Who is the home team?\n",
    "home_team=soup.text.split('@ ')[1].split(',')[0]\n",
    "\n",
    "#Matchup record\n",
    "if soup.find_all('pre')[2].text.split(' - ')[1].split(' ')[0] == home_team:\n",
    "    home_matchup_record=record_split(soup.find_all('pre')[2].text.split(' - ')[1].split(' ')[2].split()[0].strip(';'))\n",
    "else:\n",
    "    home_matchup_record=1-record_split(soup.find_all('pre')[2].text.split(' - ')[1].split(' ')[2].split()[0].strip(';'))\n",
    "    \n",
    "#How many matchups\n",
    "no_games_list=soup.find_all('pre')[2].text.split(' - ')[1].split(' ')[2].split(';')[0].split('-')\n",
    "matchup_count=int(no_games_list[1])+int(no_games_list[0])\n",
    "\n"
   ]
  },
  {
   "cell_type": "code",
   "execution_count": 350,
   "metadata": {},
   "outputs": [
    {
     "data": {
      "text/plain": [
       "(18,\n",
       " 1,\n",
       " 0,\n",
       " '2.45',\n",
       " 18.1,\n",
       " 1,\n",
       " 0.0,\n",
       " '4.58',\n",
       " 17.2,\n",
       " 0.72,\n",
       " 0.7,\n",
       " 0.67,\n",
       " 0.69,\n",
       " 0.67,\n",
       " 0.3,\n",
       " 0.25,\n",
       " 0.43,\n",
       " '.767',\n",
       " '.773',\n",
       " 5,\n",
       " 0.19999999999999996)"
      ]
     },
     "execution_count": 350,
     "metadata": {},
     "output_type": "execute_result"
    }
   ],
   "source": [
    "preview_data=(game_no,\n",
    "away_pitcher_rh,away_pitcher_record,away_pitcher_era,away_pitcher_ip,\n",
    "home_pitcher_rh,home_pitcher_record,home_pitcher_era,home_pitcher_ip,\n",
    "away_record,away_last_ten,away_venue_record,away_pitcher_type_record,\n",
    "home_record,home_last_ten,home_venue_record,home_pitcher_type_record,\n",
    "away_ops_vs_pitcher_type,home_ops_vs_pitcher_type,\n",
    "matchup_count,home_matchup_record)\n",
    "preview_data"
   ]
  },
  {
   "cell_type": "code",
   "execution_count": null,
   "metadata": {},
   "outputs": [],
   "source": []
  }
 ],
 "metadata": {
  "kernelspec": {
   "display_name": "Python 3",
   "language": "python",
   "name": "python3"
  },
  "language_info": {
   "codemirror_mode": {
    "name": "ipython",
    "version": 3
   },
   "file_extension": ".py",
   "mimetype": "text/x-python",
   "name": "python",
   "nbconvert_exporter": "python",
   "pygments_lexer": "ipython3",
   "version": "3.6.8"
  }
 },
 "nbformat": 4,
 "nbformat_minor": 2
}
